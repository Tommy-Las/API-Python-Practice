{
  "cells": [
    {
      "cell_type": "markdown",
      "metadata": {
        "id": "ScklAeVtNjcs"
      },
      "source": [
        "# Module 10 Task 1 - Interaction with API's"
      ]
    },
    {
      "cell_type": "markdown",
      "metadata": {
        "id": "rRvTSp6oNjcu"
      },
      "source": [
        "The goal of this project is to interact with the football-data API, and to find out which teams are the best at holding on wins at home (winning at half-time and winning at the end) and which are the best at turning the score around in the second half, regardless of whether it's at home or away. For both cases, we're interested in knowing not only how many times they've done it, but above all the percentage of score they've turned around / kept."
      ]
    },
    {
      "cell_type": "markdown",
      "metadata": {
        "id": "n-9T85taNjcu"
      },
      "source": [
        "Import libraries"
      ]
    },
    {
      "cell_type": "code",
      "execution_count": 1,
      "metadata": {
        "id": "D0D0BjUTNjcu"
      },
      "outputs": [],
      "source": [
        "import requests\n",
        "import pandas as pd\n",
        "import json\n",
        "import numpy as np"
      ]
    },
    {
      "cell_type": "markdown",
      "metadata": {
        "id": "Cr1Ir3MVNjcv"
      },
      "source": [
        "Declare our variables and make the GET request to the API endpoint"
      ]
    },
    {
      "cell_type": "code",
      "execution_count": 2,
      "metadata": {
        "id": "pjtkWjFRNjcv"
      },
      "outputs": [],
      "source": [
        "# id of the competition we want to get our data from, in this case #2016 is the Championship England's 2nd Division\n",
        "id = 2016\n",
        "url = f\"http://api.football-data.org/v4/competitions/{id}/matches\"\n",
        "\n",
        "# headers for the GET request, the need to pass our Authentication Token\n",
        "headers = {\"X-Auth-Token\": \"be7154bc799640df977f1223ab78ae8b\"}\n",
        "\n",
        "response = requests.get(url, headers=headers)\n",
        "response = json.loads(response.text)"
      ]
    },
    {
      "cell_type": "markdown",
      "metadata": {
        "id": "M-SACBVJNjcv"
      },
      "source": [
        "We get our matches data by converting our JSON or dictionary object into a pandas dataframe."
      ]
    },
    {
      "cell_type": "code",
      "execution_count": 3,
      "metadata": {
        "colab": {
          "base_uri": "https://localhost:8080/"
        },
        "id": "OjPD_xuBNjcw",
        "outputId": "5fd0cc3f-fb1c-4bd4-a1fe-6e63ab1c0080"
      },
      "outputs": [
        {
          "name": "stdout",
          "output_type": "stream",
          "text": [
            "<class 'pandas.core.frame.DataFrame'>\n",
            "RangeIndex: 557 entries, 0 to 556\n",
            "Data columns (total 39 columns):\n",
            " #   Column                  Non-Null Count  Dtype  \n",
            "---  ------                  --------------  -----  \n",
            " 0   id                      557 non-null    int64  \n",
            " 1   utcDate                 557 non-null    object \n",
            " 2   status                  557 non-null    object \n",
            " 3   matchday                556 non-null    float64\n",
            " 4   stage                   557 non-null    object \n",
            " 5   group                   0 non-null      object \n",
            " 6   lastUpdated             557 non-null    object \n",
            " 7   referees                557 non-null    object \n",
            " 8   area.id                 557 non-null    int64  \n",
            " 9   area.name               557 non-null    object \n",
            " 10  area.code               557 non-null    object \n",
            " 11  area.flag               557 non-null    object \n",
            " 12  competition.id          557 non-null    int64  \n",
            " 13  competition.name        557 non-null    object \n",
            " 14  competition.code        557 non-null    object \n",
            " 15  competition.type        557 non-null    object \n",
            " 16  competition.emblem      557 non-null    object \n",
            " 17  season.id               557 non-null    int64  \n",
            " 18  season.startDate        557 non-null    object \n",
            " 19  season.endDate          557 non-null    object \n",
            " 20  season.currentMatchday  557 non-null    int64  \n",
            " 21  season.winner           0 non-null      object \n",
            " 22  homeTeam.id             556 non-null    float64\n",
            " 23  homeTeam.name           556 non-null    object \n",
            " 24  homeTeam.shortName      556 non-null    object \n",
            " 25  homeTeam.tla            556 non-null    object \n",
            " 26  homeTeam.crest          556 non-null    object \n",
            " 27  awayTeam.id             556 non-null    float64\n",
            " 28  awayTeam.name           556 non-null    object \n",
            " 29  awayTeam.shortName      556 non-null    object \n",
            " 30  awayTeam.tla            556 non-null    object \n",
            " 31  awayTeam.crest          556 non-null    object \n",
            " 32  score.winner            554 non-null    object \n",
            " 33  score.duration          557 non-null    object \n",
            " 34  score.fullTime.home     554 non-null    float64\n",
            " 35  score.fullTime.away     554 non-null    float64\n",
            " 36  score.halfTime.home     554 non-null    float64\n",
            " 37  score.halfTime.away     554 non-null    float64\n",
            " 38  odds.msg                557 non-null    object \n",
            "dtypes: float64(7), int64(5), object(27)\n",
            "memory usage: 169.8+ KB\n"
          ]
        }
      ],
      "source": [
        "matches_df = pd.json_normalize(response[\"matches\"])\n",
        "#print(response)\n",
        "matches_df.info()"
      ]
    },
    {
      "cell_type": "markdown",
      "metadata": {
        "id": "TKozpg26Njcw"
      },
      "source": [
        "There are columns that we don't need for our calculations, so we delete them."
      ]
    },
    {
      "cell_type": "code",
      "execution_count": 4,
      "metadata": {
        "colab": {
          "base_uri": "https://localhost:8080/",
          "height": 424
        },
        "id": "XVjYYTaBNjcw",
        "outputId": "14febd77-ece8-43be-d5fa-bca2d768ec46"
      },
      "outputs": [
        {
          "data": {
            "text/html": [
              "<div>\n",
              "<style scoped>\n",
              "    .dataframe tbody tr th:only-of-type {\n",
              "        vertical-align: middle;\n",
              "    }\n",
              "\n",
              "    .dataframe tbody tr th {\n",
              "        vertical-align: top;\n",
              "    }\n",
              "\n",
              "    .dataframe thead th {\n",
              "        text-align: right;\n",
              "    }\n",
              "</style>\n",
              "<table border=\"1\" class=\"dataframe\">\n",
              "  <thead>\n",
              "    <tr style=\"text-align: right;\">\n",
              "      <th></th>\n",
              "      <th>id</th>\n",
              "      <th>homeTeam.id</th>\n",
              "      <th>homeTeam.shortName</th>\n",
              "      <th>awayTeam.id</th>\n",
              "      <th>awayTeam.shortName</th>\n",
              "      <th>score.winner</th>\n",
              "      <th>score.fullTime.home</th>\n",
              "      <th>score.fullTime.away</th>\n",
              "      <th>score.halfTime.home</th>\n",
              "      <th>score.halfTime.away</th>\n",
              "    </tr>\n",
              "  </thead>\n",
              "  <tbody>\n",
              "    <tr>\n",
              "      <th>0</th>\n",
              "      <td>436675</td>\n",
              "      <td>345.0</td>\n",
              "      <td>Sheffield Wed</td>\n",
              "      <td>340.0</td>\n",
              "      <td>Southampton</td>\n",
              "      <td>AWAY_TEAM</td>\n",
              "      <td>1.0</td>\n",
              "      <td>2.0</td>\n",
              "      <td>0.0</td>\n",
              "      <td>1.0</td>\n",
              "    </tr>\n",
              "    <tr>\n",
              "      <th>1</th>\n",
              "      <td>436676</td>\n",
              "      <td>59.0</td>\n",
              "      <td>Blackburn</td>\n",
              "      <td>74.0</td>\n",
              "      <td>West Brom</td>\n",
              "      <td>HOME_TEAM</td>\n",
              "      <td>2.0</td>\n",
              "      <td>1.0</td>\n",
              "      <td>2.0</td>\n",
              "      <td>0.0</td>\n",
              "    </tr>\n",
              "    <tr>\n",
              "      <th>2</th>\n",
              "      <td>436677</td>\n",
              "      <td>387.0</td>\n",
              "      <td>Bristol City</td>\n",
              "      <td>1081.0</td>\n",
              "      <td>Preston NE</td>\n",
              "      <td>DRAW</td>\n",
              "      <td>1.0</td>\n",
              "      <td>1.0</td>\n",
              "      <td>0.0</td>\n",
              "      <td>0.0</td>\n",
              "    </tr>\n",
              "    <tr>\n",
              "      <th>3</th>\n",
              "      <td>436678</td>\n",
              "      <td>343.0</td>\n",
              "      <td>Middlesbrough</td>\n",
              "      <td>384.0</td>\n",
              "      <td>Millwall</td>\n",
              "      <td>AWAY_TEAM</td>\n",
              "      <td>0.0</td>\n",
              "      <td>1.0</td>\n",
              "      <td>0.0</td>\n",
              "      <td>0.0</td>\n",
              "    </tr>\n",
              "    <tr>\n",
              "      <th>4</th>\n",
              "      <td>436679</td>\n",
              "      <td>68.0</td>\n",
              "      <td>Norwich</td>\n",
              "      <td>322.0</td>\n",
              "      <td>Hull City</td>\n",
              "      <td>HOME_TEAM</td>\n",
              "      <td>2.0</td>\n",
              "      <td>1.0</td>\n",
              "      <td>1.0</td>\n",
              "      <td>1.0</td>\n",
              "    </tr>\n",
              "    <tr>\n",
              "      <th>...</th>\n",
              "      <td>...</td>\n",
              "      <td>...</td>\n",
              "      <td>...</td>\n",
              "      <td>...</td>\n",
              "      <td>...</td>\n",
              "      <td>...</td>\n",
              "      <td>...</td>\n",
              "      <td>...</td>\n",
              "      <td>...</td>\n",
              "      <td>...</td>\n",
              "    </tr>\n",
              "    <tr>\n",
              "      <th>552</th>\n",
              "      <td>495747</td>\n",
              "      <td>68.0</td>\n",
              "      <td>Norwich</td>\n",
              "      <td>341.0</td>\n",
              "      <td>Leeds United</td>\n",
              "      <td>DRAW</td>\n",
              "      <td>0.0</td>\n",
              "      <td>0.0</td>\n",
              "      <td>0.0</td>\n",
              "      <td>0.0</td>\n",
              "    </tr>\n",
              "    <tr>\n",
              "      <th>553</th>\n",
              "      <td>495748</td>\n",
              "      <td>74.0</td>\n",
              "      <td>West Brom</td>\n",
              "      <td>340.0</td>\n",
              "      <td>Southampton</td>\n",
              "      <td>DRAW</td>\n",
              "      <td>0.0</td>\n",
              "      <td>0.0</td>\n",
              "      <td>0.0</td>\n",
              "      <td>0.0</td>\n",
              "    </tr>\n",
              "    <tr>\n",
              "      <th>554</th>\n",
              "      <td>495749</td>\n",
              "      <td>341.0</td>\n",
              "      <td>Leeds United</td>\n",
              "      <td>68.0</td>\n",
              "      <td>Norwich</td>\n",
              "      <td>None</td>\n",
              "      <td>NaN</td>\n",
              "      <td>NaN</td>\n",
              "      <td>NaN</td>\n",
              "      <td>NaN</td>\n",
              "    </tr>\n",
              "    <tr>\n",
              "      <th>555</th>\n",
              "      <td>495750</td>\n",
              "      <td>340.0</td>\n",
              "      <td>Southampton</td>\n",
              "      <td>74.0</td>\n",
              "      <td>West Brom</td>\n",
              "      <td>None</td>\n",
              "      <td>NaN</td>\n",
              "      <td>NaN</td>\n",
              "      <td>NaN</td>\n",
              "      <td>NaN</td>\n",
              "    </tr>\n",
              "    <tr>\n",
              "      <th>556</th>\n",
              "      <td>495751</td>\n",
              "      <td>NaN</td>\n",
              "      <td>None</td>\n",
              "      <td>NaN</td>\n",
              "      <td>None</td>\n",
              "      <td>None</td>\n",
              "      <td>NaN</td>\n",
              "      <td>NaN</td>\n",
              "      <td>NaN</td>\n",
              "      <td>NaN</td>\n",
              "    </tr>\n",
              "  </tbody>\n",
              "</table>\n",
              "<p>557 rows × 10 columns</p>\n",
              "</div>"
            ],
            "text/plain": [
              "         id  homeTeam.id homeTeam.shortName  awayTeam.id awayTeam.shortName  \\\n",
              "0    436675        345.0      Sheffield Wed        340.0        Southampton   \n",
              "1    436676         59.0          Blackburn         74.0          West Brom   \n",
              "2    436677        387.0       Bristol City       1081.0         Preston NE   \n",
              "3    436678        343.0      Middlesbrough        384.0           Millwall   \n",
              "4    436679         68.0            Norwich        322.0          Hull City   \n",
              "..      ...          ...                ...          ...                ...   \n",
              "552  495747         68.0            Norwich        341.0       Leeds United   \n",
              "553  495748         74.0          West Brom        340.0        Southampton   \n",
              "554  495749        341.0       Leeds United         68.0            Norwich   \n",
              "555  495750        340.0        Southampton         74.0          West Brom   \n",
              "556  495751          NaN               None          NaN               None   \n",
              "\n",
              "    score.winner  score.fullTime.home  score.fullTime.away  \\\n",
              "0      AWAY_TEAM                  1.0                  2.0   \n",
              "1      HOME_TEAM                  2.0                  1.0   \n",
              "2           DRAW                  1.0                  1.0   \n",
              "3      AWAY_TEAM                  0.0                  1.0   \n",
              "4      HOME_TEAM                  2.0                  1.0   \n",
              "..           ...                  ...                  ...   \n",
              "552         DRAW                  0.0                  0.0   \n",
              "553         DRAW                  0.0                  0.0   \n",
              "554         None                  NaN                  NaN   \n",
              "555         None                  NaN                  NaN   \n",
              "556         None                  NaN                  NaN   \n",
              "\n",
              "     score.halfTime.home  score.halfTime.away  \n",
              "0                    0.0                  1.0  \n",
              "1                    2.0                  0.0  \n",
              "2                    0.0                  0.0  \n",
              "3                    0.0                  0.0  \n",
              "4                    1.0                  1.0  \n",
              "..                   ...                  ...  \n",
              "552                  0.0                  0.0  \n",
              "553                  0.0                  0.0  \n",
              "554                  NaN                  NaN  \n",
              "555                  NaN                  NaN  \n",
              "556                  NaN                  NaN  \n",
              "\n",
              "[557 rows x 10 columns]"
            ]
          },
          "execution_count": 4,
          "metadata": {},
          "output_type": "execute_result"
        }
      ],
      "source": [
        "# We type the name of the columns we are droping, we also specify that the removal is to axis 1 which are the columns\n",
        "\n",
        "matches_df = matches_df.drop([\"stage\", \"utcDate\",\"group\", \"lastUpdated\", \"referees\", \"area.id\", \"area.name\", \"status\", 'area.code', 'area.flag',\n",
        "       'competition.id','competition.code', \"competition.name\", \"matchday\",\n",
        "       'competition.type', 'competition.emblem', 'season.id',\n",
        "       'season.startDate', 'season.endDate', 'season.currentMatchday','homeTeam.crest','awayTeam.crest', 'score.duration',\n",
        "       'season.winner','homeTeam.name','awayTeam.name','odds.msg', \"awayTeam.tla\", \"homeTeam.tla\"], axis=1)\n",
        "\n",
        "matches_df"
      ]
    },
    {
      "cell_type": "markdown",
      "metadata": {
        "id": "U7YfVu4uNjcx"
      },
      "source": [
        "We want to calculate for each team, the times that they hold a winning score during half time and final time, and also calculate the times each time was able to turn the score around on the second half.\n",
        "\n",
        "I will create another dataframe that will hold these values, where each row will be a team, and each column would be HomeWins, and 2ndHalfWins. We also need the percentage, so we will have columns for that too."
      ]
    },
    {
      "cell_type": "markdown",
      "metadata": {
        "id": "ZSFSpUFaNjcx"
      },
      "source": [
        "First, we get the team names"
      ]
    },
    {
      "cell_type": "code",
      "execution_count": 5,
      "metadata": {
        "colab": {
          "base_uri": "https://localhost:8080/"
        },
        "id": "fy_NcWZRNjcx",
        "outputId": "14711309-dc6b-43a2-fdb5-1a16eae0dde1"
      },
      "outputs": [
        {
          "name": "stdout",
          "output_type": "stream",
          "text": [
            "['Sheffield Wed' 'Blackburn' 'Bristol City' 'Middlesbrough' 'Norwich'\n",
            " 'Plymouth Arg' 'Watford' 'Stoke' 'Swansea' 'Leicester City'\n",
            " 'Leeds United' 'Sunderland' 'Coventry City' 'Birmingham' 'Cardiff'\n",
            " 'Millwall' 'Southampton' 'Huddersfield' 'Hull City' 'Ipswich Town'\n",
            " 'Preston NE' 'Rotherham Utd' 'West Brom' 'QPR']\n"
          ]
        }
      ],
      "source": [
        "unique_teams = matches_df[\"homeTeam.shortName\"].unique()\n",
        "# Delete the last item in the list since its a \"none\" value\n",
        "unique_teams = np.delete(unique_teams,-1)\n",
        "\n",
        "print(unique_teams)\n",
        "\n"
      ]
    },
    {
      "cell_type": "markdown",
      "metadata": {
        "id": "IQcMWb6sNjcx"
      },
      "source": [
        "Next, we create the DF"
      ]
    },
    {
      "cell_type": "code",
      "execution_count": 6,
      "metadata": {
        "colab": {
          "base_uri": "https://localhost:8080/",
          "height": 206
        },
        "id": "qSsPmtFWNjcx",
        "outputId": "5116c513-b0f5-44b8-ceca-51926782f115"
      },
      "outputs": [
        {
          "name": "stderr",
          "output_type": "stream",
          "text": [
            "/var/folders/6v/mydq28cs5jsf5r12rn8vl4vr0000gn/T/ipykernel_2414/157524392.py:3: FutureWarning: Downcasting object dtype arrays on .fillna, .ffill, .bfill is deprecated and will change in a future version. Call result.infer_objects(copy=False) instead. To opt-in to the future behavior, set `pd.set_option('future.no_silent_downcasting', True)`\n",
            "  teams_df = teams_df.fillna(0)\n"
          ]
        },
        {
          "data": {
            "text/html": [
              "<div>\n",
              "<style scoped>\n",
              "    .dataframe tbody tr th:only-of-type {\n",
              "        vertical-align: middle;\n",
              "    }\n",
              "\n",
              "    .dataframe tbody tr th {\n",
              "        vertical-align: top;\n",
              "    }\n",
              "\n",
              "    .dataframe thead th {\n",
              "        text-align: right;\n",
              "    }\n",
              "</style>\n",
              "<table border=\"1\" class=\"dataframe\">\n",
              "  <thead>\n",
              "    <tr style=\"text-align: right;\">\n",
              "      <th></th>\n",
              "      <th>HomeWins</th>\n",
              "      <th>%HomeWins</th>\n",
              "      <th>2ndHalfTurnArounds</th>\n",
              "      <th>%2ndHalfTurnArounds</th>\n",
              "    </tr>\n",
              "  </thead>\n",
              "  <tbody>\n",
              "    <tr>\n",
              "      <th>Sheffield Wed</th>\n",
              "      <td>0</td>\n",
              "      <td>0</td>\n",
              "      <td>0</td>\n",
              "      <td>0</td>\n",
              "    </tr>\n",
              "    <tr>\n",
              "      <th>Blackburn</th>\n",
              "      <td>0</td>\n",
              "      <td>0</td>\n",
              "      <td>0</td>\n",
              "      <td>0</td>\n",
              "    </tr>\n",
              "    <tr>\n",
              "      <th>Bristol City</th>\n",
              "      <td>0</td>\n",
              "      <td>0</td>\n",
              "      <td>0</td>\n",
              "      <td>0</td>\n",
              "    </tr>\n",
              "    <tr>\n",
              "      <th>Middlesbrough</th>\n",
              "      <td>0</td>\n",
              "      <td>0</td>\n",
              "      <td>0</td>\n",
              "      <td>0</td>\n",
              "    </tr>\n",
              "    <tr>\n",
              "      <th>Norwich</th>\n",
              "      <td>0</td>\n",
              "      <td>0</td>\n",
              "      <td>0</td>\n",
              "      <td>0</td>\n",
              "    </tr>\n",
              "  </tbody>\n",
              "</table>\n",
              "</div>"
            ],
            "text/plain": [
              "               HomeWins  %HomeWins  2ndHalfTurnArounds  %2ndHalfTurnArounds\n",
              "Sheffield Wed         0          0                   0                    0\n",
              "Blackburn             0          0                   0                    0\n",
              "Bristol City          0          0                   0                    0\n",
              "Middlesbrough         0          0                   0                    0\n",
              "Norwich               0          0                   0                    0"
            ]
          },
          "execution_count": 6,
          "metadata": {},
          "output_type": "execute_result"
        }
      ],
      "source": [
        "teams_df = pd.DataFrame(index=unique_teams, columns=[\"HomeWins\", \"%HomeWins\",\"2ndHalfTurnArounds\",\"%2ndHalfTurnArounds\" ])\n",
        "\n",
        "teams_df = teams_df.fillna(0)\n",
        "\n",
        "teams_df.head()"
      ]
    },
    {
      "cell_type": "markdown",
      "metadata": {
        "id": "IVPRc-5wWGbz"
      },
      "source": [
        "We need to populate this table by doing a for loop, iterate through all the matches and calculate the values."
      ]
    },
    {
      "cell_type": "code",
      "execution_count": 7,
      "metadata": {
        "id": "vYf7NPH6WGwC"
      },
      "outputs": [],
      "source": [
        "for index, game in matches_df.iterrows():\n",
        "    home_team = game[\"homeTeam.shortName\"]\n",
        "    away_team = game[\"awayTeam.shortName\"]\n",
        "    HT_home_score = game[\"score.halfTime.home\"]\n",
        "    HT_away_score = game[\"score.halfTime.away\"]\n",
        "    FT_home_score = game[\"score.fullTime.home\"]\n",
        "    FT_away_score = game[\"score.fullTime.away\"]\n",
        "\n",
        "    #If the game ends in a draw, it won't be useful for our calculations. So we continue on the for loop.\n",
        "    if(game[\"score.winner\"] == \"DRAW\"):\n",
        "      continue\n",
        "\n",
        "    # Calculate the teams that hold wins on the first half and second half at home\n",
        "    if( (HT_home_score > HT_away_score) and ( game[\"score.winner\"] == \"HOME_TEAM\" ) ):\n",
        "      #Update the HomeWins column on the teams_df\n",
        "      teams_df.loc[home_team,'HomeWins'] = teams_df.loc[home_team, 'HomeWins'] + 1\n",
        "\n",
        "    # Calculate the teams that turn the score around in the second half. We care about the home team and away team.\n",
        "    if( (HT_home_score < HT_away_score) and (game[\"score.winner\"] == \"HOME_TEAM\")):\n",
        "      teams_df.loc[home_team,\"2ndHalfTurnArounds\"] = teams_df.loc[home_team, \"2ndHalfTurnArounds\"] + 1\n",
        "    elif( (HT_away_score < HT_home_score) and (game[\"score.winner\"] == \"AWAY_TEAM\") ):\n",
        "      teams_df.loc[away_team,\"2ndHalfTurnArounds\"] = teams_df.loc[away_team, \"2ndHalfTurnArounds\"] + 1"
      ]
    },
    {
      "cell_type": "markdown",
      "metadata": {
        "id": "rikMLXP-QLMO"
      },
      "source": [
        "Show Home Wins values."
      ]
    },
    {
      "cell_type": "code",
      "execution_count": 8,
      "metadata": {
        "colab": {
          "base_uri": "https://localhost:8080/"
        },
        "id": "CXnaEtIBw3nF",
        "outputId": "8a6d023b-7bbe-45ea-b8a3-91d723e9afb5"
      },
      "outputs": [
        {
          "name": "stdout",
          "output_type": "stream",
          "text": [
            "                HomeWins\n",
            "West Brom             11\n",
            "Leeds United          11\n",
            "Southampton           11\n",
            "Ipswich Town          10\n",
            "Norwich                8\n",
            "Leicester City         8\n",
            "Millwall               6\n",
            "Bristol City           6\n",
            "Middlesbrough          6\n",
            "Plymouth Arg           6\n",
            "Sheffield Wed          5\n",
            "Preston NE             5\n",
            "Coventry City          5\n",
            "Sunderland             5\n",
            "Stoke                  5\n",
            "Birmingham             4\n",
            "Blackburn              4\n",
            "Huddersfield           4\n",
            "Hull City              4\n",
            "Swansea                4\n",
            "QPR                    4\n",
            "Cardiff                3\n",
            "Rotherham Utd          2\n",
            "Watford                2\n"
          ]
        }
      ],
      "source": [
        "print(teams_df.loc[:,['HomeWins']].sort_values('HomeWins',ascending=False))"
      ]
    },
    {
      "cell_type": "markdown",
      "metadata": {
        "id": "gEGU5quNQGuL"
      },
      "source": [
        "Show 2nd half turn arounds values."
      ]
    },
    {
      "cell_type": "code",
      "execution_count": 9,
      "metadata": {
        "colab": {
          "base_uri": "https://localhost:8080/"
        },
        "id": "2uLPjlpZYSub",
        "outputId": "874f062e-744d-4212-caf0-13c5c4c98cca"
      },
      "outputs": [
        {
          "name": "stdout",
          "output_type": "stream",
          "text": [
            "                2ndHalfTurnArounds\n",
            "Norwich                          3\n",
            "Coventry City                    2\n",
            "Bristol City                     2\n",
            "Preston NE                       2\n",
            "Ipswich Town                     2\n",
            "Hull City                        2\n",
            "Southampton                      2\n",
            "Cardiff                          2\n",
            "Leeds United                     2\n",
            "Birmingham                       1\n",
            "West Brom                        1\n",
            "Sheffield Wed                    1\n",
            "Sunderland                       1\n",
            "Leicester City                   1\n",
            "Swansea                          1\n",
            "Stoke                            1\n",
            "Watford                          1\n",
            "QPR                              1\n",
            "Blackburn                        0\n",
            "Millwall                         0\n",
            "Huddersfield                     0\n",
            "Plymouth Arg                     0\n",
            "Rotherham Utd                    0\n",
            "Middlesbrough                    0\n"
          ]
        }
      ],
      "source": [
        "print(teams_df.loc[:,[\"2ndHalfTurnArounds\"]].sort_values(\"2ndHalfTurnArounds\",ascending=False))"
      ]
    },
    {
      "cell_type": "markdown",
      "metadata": {
        "id": "L0E82tUlQAMS"
      },
      "source": [
        "Next, we need to calculate the percentage of HomeWins and 2ndHalfTurnArounds. We would first need to find the total games for each team, we are going to add a new column in our teams dataframe.\n",
        "\n",
        "This was automated since there could be teams that play more games than others, since there are leagues that contain playoffs."
      ]
    },
    {
      "cell_type": "code",
      "execution_count": 10,
      "metadata": {
        "colab": {
          "base_uri": "https://localhost:8080/"
        },
        "id": "VA34qKF_QAgr",
        "outputId": "ec9a462c-5f31-491e-94e3-5a117eaf2938"
      },
      "outputs": [
        {
          "data": {
            "text/plain": [
              "West Brom         48\n",
              "Leeds United      48\n",
              "Norwich           48\n",
              "Southampton       48\n",
              "Sheffield Wed     46\n",
              "Stoke             46\n",
              "Sunderland        46\n",
              "Cardiff           46\n",
              "Coventry City     46\n",
              "Leicester City    46\n",
              "Birmingham        46\n",
              "Swansea           46\n",
              "Rotherham Utd     46\n",
              "Watford           46\n",
              "QPR               46\n",
              "Huddersfield      46\n",
              "Plymouth Arg      46\n",
              "Hull City         46\n",
              "Millwall          46\n",
              "Middlesbrough     46\n",
              "Preston NE        46\n",
              "Bristol City      46\n",
              "Blackburn         46\n",
              "Ipswich Town      46\n",
              "Name: count, dtype: int64"
            ]
          },
          "execution_count": 10,
          "metadata": {},
          "output_type": "execute_result"
        }
      ],
      "source": [
        "#by using the stack and value_counts methods, we can find out the total games played by each team\n",
        "total_matches_df = matches_df[[\"homeTeam.shortName\", \"awayTeam.shortName\"]].stack().value_counts()\n",
        "total_matches_df"
      ]
    },
    {
      "cell_type": "markdown",
      "metadata": {
        "id": "OM2umP0X8ki4"
      },
      "source": [
        "Now we merge columns"
      ]
    },
    {
      "cell_type": "code",
      "execution_count": 11,
      "metadata": {
        "colab": {
          "base_uri": "https://localhost:8080/",
          "height": 802
        },
        "id": "y60ZbYx98j8b",
        "outputId": "80e39e71-9cc2-486d-d193-92c5897456a3"
      },
      "outputs": [
        {
          "data": {
            "text/html": [
              "<div>\n",
              "<style scoped>\n",
              "    .dataframe tbody tr th:only-of-type {\n",
              "        vertical-align: middle;\n",
              "    }\n",
              "\n",
              "    .dataframe tbody tr th {\n",
              "        vertical-align: top;\n",
              "    }\n",
              "\n",
              "    .dataframe thead th {\n",
              "        text-align: right;\n",
              "    }\n",
              "</style>\n",
              "<table border=\"1\" class=\"dataframe\">\n",
              "  <thead>\n",
              "    <tr style=\"text-align: right;\">\n",
              "      <th></th>\n",
              "      <th>HomeWins</th>\n",
              "      <th>%HomeWins</th>\n",
              "      <th>2ndHalfTurnArounds</th>\n",
              "      <th>%2ndHalfTurnArounds</th>\n",
              "      <th>matches</th>\n",
              "    </tr>\n",
              "  </thead>\n",
              "  <tbody>\n",
              "    <tr>\n",
              "      <th>Sheffield Wed</th>\n",
              "      <td>5</td>\n",
              "      <td>0</td>\n",
              "      <td>1</td>\n",
              "      <td>0</td>\n",
              "      <td>46</td>\n",
              "    </tr>\n",
              "    <tr>\n",
              "      <th>Blackburn</th>\n",
              "      <td>4</td>\n",
              "      <td>0</td>\n",
              "      <td>0</td>\n",
              "      <td>0</td>\n",
              "      <td>46</td>\n",
              "    </tr>\n",
              "    <tr>\n",
              "      <th>Bristol City</th>\n",
              "      <td>6</td>\n",
              "      <td>0</td>\n",
              "      <td>2</td>\n",
              "      <td>0</td>\n",
              "      <td>46</td>\n",
              "    </tr>\n",
              "    <tr>\n",
              "      <th>Middlesbrough</th>\n",
              "      <td>6</td>\n",
              "      <td>0</td>\n",
              "      <td>0</td>\n",
              "      <td>0</td>\n",
              "      <td>46</td>\n",
              "    </tr>\n",
              "    <tr>\n",
              "      <th>Norwich</th>\n",
              "      <td>8</td>\n",
              "      <td>0</td>\n",
              "      <td>3</td>\n",
              "      <td>0</td>\n",
              "      <td>48</td>\n",
              "    </tr>\n",
              "    <tr>\n",
              "      <th>Plymouth Arg</th>\n",
              "      <td>6</td>\n",
              "      <td>0</td>\n",
              "      <td>0</td>\n",
              "      <td>0</td>\n",
              "      <td>46</td>\n",
              "    </tr>\n",
              "    <tr>\n",
              "      <th>Watford</th>\n",
              "      <td>2</td>\n",
              "      <td>0</td>\n",
              "      <td>1</td>\n",
              "      <td>0</td>\n",
              "      <td>46</td>\n",
              "    </tr>\n",
              "    <tr>\n",
              "      <th>Stoke</th>\n",
              "      <td>5</td>\n",
              "      <td>0</td>\n",
              "      <td>1</td>\n",
              "      <td>0</td>\n",
              "      <td>46</td>\n",
              "    </tr>\n",
              "    <tr>\n",
              "      <th>Swansea</th>\n",
              "      <td>4</td>\n",
              "      <td>0</td>\n",
              "      <td>1</td>\n",
              "      <td>0</td>\n",
              "      <td>46</td>\n",
              "    </tr>\n",
              "    <tr>\n",
              "      <th>Leicester City</th>\n",
              "      <td>8</td>\n",
              "      <td>0</td>\n",
              "      <td>1</td>\n",
              "      <td>0</td>\n",
              "      <td>46</td>\n",
              "    </tr>\n",
              "    <tr>\n",
              "      <th>Leeds United</th>\n",
              "      <td>11</td>\n",
              "      <td>0</td>\n",
              "      <td>2</td>\n",
              "      <td>0</td>\n",
              "      <td>48</td>\n",
              "    </tr>\n",
              "    <tr>\n",
              "      <th>Sunderland</th>\n",
              "      <td>5</td>\n",
              "      <td>0</td>\n",
              "      <td>1</td>\n",
              "      <td>0</td>\n",
              "      <td>46</td>\n",
              "    </tr>\n",
              "    <tr>\n",
              "      <th>Coventry City</th>\n",
              "      <td>5</td>\n",
              "      <td>0</td>\n",
              "      <td>2</td>\n",
              "      <td>0</td>\n",
              "      <td>46</td>\n",
              "    </tr>\n",
              "    <tr>\n",
              "      <th>Birmingham</th>\n",
              "      <td>4</td>\n",
              "      <td>0</td>\n",
              "      <td>1</td>\n",
              "      <td>0</td>\n",
              "      <td>46</td>\n",
              "    </tr>\n",
              "    <tr>\n",
              "      <th>Cardiff</th>\n",
              "      <td>3</td>\n",
              "      <td>0</td>\n",
              "      <td>2</td>\n",
              "      <td>0</td>\n",
              "      <td>46</td>\n",
              "    </tr>\n",
              "    <tr>\n",
              "      <th>Millwall</th>\n",
              "      <td>6</td>\n",
              "      <td>0</td>\n",
              "      <td>0</td>\n",
              "      <td>0</td>\n",
              "      <td>46</td>\n",
              "    </tr>\n",
              "    <tr>\n",
              "      <th>Southampton</th>\n",
              "      <td>11</td>\n",
              "      <td>0</td>\n",
              "      <td>2</td>\n",
              "      <td>0</td>\n",
              "      <td>48</td>\n",
              "    </tr>\n",
              "    <tr>\n",
              "      <th>Huddersfield</th>\n",
              "      <td>4</td>\n",
              "      <td>0</td>\n",
              "      <td>0</td>\n",
              "      <td>0</td>\n",
              "      <td>46</td>\n",
              "    </tr>\n",
              "    <tr>\n",
              "      <th>Hull City</th>\n",
              "      <td>4</td>\n",
              "      <td>0</td>\n",
              "      <td>2</td>\n",
              "      <td>0</td>\n",
              "      <td>46</td>\n",
              "    </tr>\n",
              "    <tr>\n",
              "      <th>Ipswich Town</th>\n",
              "      <td>10</td>\n",
              "      <td>0</td>\n",
              "      <td>2</td>\n",
              "      <td>0</td>\n",
              "      <td>46</td>\n",
              "    </tr>\n",
              "    <tr>\n",
              "      <th>Preston NE</th>\n",
              "      <td>5</td>\n",
              "      <td>0</td>\n",
              "      <td>2</td>\n",
              "      <td>0</td>\n",
              "      <td>46</td>\n",
              "    </tr>\n",
              "    <tr>\n",
              "      <th>Rotherham Utd</th>\n",
              "      <td>2</td>\n",
              "      <td>0</td>\n",
              "      <td>0</td>\n",
              "      <td>0</td>\n",
              "      <td>46</td>\n",
              "    </tr>\n",
              "    <tr>\n",
              "      <th>West Brom</th>\n",
              "      <td>11</td>\n",
              "      <td>0</td>\n",
              "      <td>1</td>\n",
              "      <td>0</td>\n",
              "      <td>48</td>\n",
              "    </tr>\n",
              "    <tr>\n",
              "      <th>QPR</th>\n",
              "      <td>4</td>\n",
              "      <td>0</td>\n",
              "      <td>1</td>\n",
              "      <td>0</td>\n",
              "      <td>46</td>\n",
              "    </tr>\n",
              "  </tbody>\n",
              "</table>\n",
              "</div>"
            ],
            "text/plain": [
              "                HomeWins  %HomeWins  2ndHalfTurnArounds  %2ndHalfTurnArounds  \\\n",
              "Sheffield Wed          5          0                   1                    0   \n",
              "Blackburn              4          0                   0                    0   \n",
              "Bristol City           6          0                   2                    0   \n",
              "Middlesbrough          6          0                   0                    0   \n",
              "Norwich                8          0                   3                    0   \n",
              "Plymouth Arg           6          0                   0                    0   \n",
              "Watford                2          0                   1                    0   \n",
              "Stoke                  5          0                   1                    0   \n",
              "Swansea                4          0                   1                    0   \n",
              "Leicester City         8          0                   1                    0   \n",
              "Leeds United          11          0                   2                    0   \n",
              "Sunderland             5          0                   1                    0   \n",
              "Coventry City          5          0                   2                    0   \n",
              "Birmingham             4          0                   1                    0   \n",
              "Cardiff                3          0                   2                    0   \n",
              "Millwall               6          0                   0                    0   \n",
              "Southampton           11          0                   2                    0   \n",
              "Huddersfield           4          0                   0                    0   \n",
              "Hull City              4          0                   2                    0   \n",
              "Ipswich Town          10          0                   2                    0   \n",
              "Preston NE             5          0                   2                    0   \n",
              "Rotherham Utd          2          0                   0                    0   \n",
              "West Brom             11          0                   1                    0   \n",
              "QPR                    4          0                   1                    0   \n",
              "\n",
              "                matches  \n",
              "Sheffield Wed        46  \n",
              "Blackburn            46  \n",
              "Bristol City         46  \n",
              "Middlesbrough        46  \n",
              "Norwich              48  \n",
              "Plymouth Arg         46  \n",
              "Watford              46  \n",
              "Stoke                46  \n",
              "Swansea              46  \n",
              "Leicester City       46  \n",
              "Leeds United         48  \n",
              "Sunderland           46  \n",
              "Coventry City        46  \n",
              "Birmingham           46  \n",
              "Cardiff              46  \n",
              "Millwall             46  \n",
              "Southampton          48  \n",
              "Huddersfield         46  \n",
              "Hull City            46  \n",
              "Ipswich Town         46  \n",
              "Preston NE           46  \n",
              "Rotherham Utd        46  \n",
              "West Brom            48  \n",
              "QPR                  46  "
            ]
          },
          "execution_count": 11,
          "metadata": {},
          "output_type": "execute_result"
        }
      ],
      "source": [
        "teams_df = teams_df.join(total_matches_df)\n",
        "\n",
        "# Rename columnt count to matches\n",
        "teams_df.rename(columns={'count':'matches'}, inplace=True)\n",
        "teams_df"
      ]
    },
    {
      "cell_type": "markdown",
      "metadata": {
        "id": "9gMJy7zt-V0R"
      },
      "source": [
        "Now we calculate the percentage for both HomeWins and 2ndHalfTurnArounds"
      ]
    },
    {
      "cell_type": "code",
      "execution_count": 12,
      "metadata": {
        "colab": {
          "base_uri": "https://localhost:8080/",
          "height": 802
        },
        "id": "cWRHkxFJ-WDQ",
        "outputId": "9229be5e-ad24-48c7-cf0a-76cbf603fbae"
      },
      "outputs": [
        {
          "data": {
            "text/html": [
              "<div>\n",
              "<style scoped>\n",
              "    .dataframe tbody tr th:only-of-type {\n",
              "        vertical-align: middle;\n",
              "    }\n",
              "\n",
              "    .dataframe tbody tr th {\n",
              "        vertical-align: top;\n",
              "    }\n",
              "\n",
              "    .dataframe thead th {\n",
              "        text-align: right;\n",
              "    }\n",
              "</style>\n",
              "<table border=\"1\" class=\"dataframe\">\n",
              "  <thead>\n",
              "    <tr style=\"text-align: right;\">\n",
              "      <th></th>\n",
              "      <th>HomeWins</th>\n",
              "      <th>%HomeWins</th>\n",
              "      <th>2ndHalfTurnArounds</th>\n",
              "      <th>%2ndHalfTurnArounds</th>\n",
              "      <th>matches</th>\n",
              "    </tr>\n",
              "  </thead>\n",
              "  <tbody>\n",
              "    <tr>\n",
              "      <th>Sheffield Wed</th>\n",
              "      <td>5</td>\n",
              "      <td>10.87</td>\n",
              "      <td>1</td>\n",
              "      <td>2.17</td>\n",
              "      <td>46</td>\n",
              "    </tr>\n",
              "    <tr>\n",
              "      <th>Blackburn</th>\n",
              "      <td>4</td>\n",
              "      <td>8.70</td>\n",
              "      <td>0</td>\n",
              "      <td>0.00</td>\n",
              "      <td>46</td>\n",
              "    </tr>\n",
              "    <tr>\n",
              "      <th>Bristol City</th>\n",
              "      <td>6</td>\n",
              "      <td>13.04</td>\n",
              "      <td>2</td>\n",
              "      <td>4.35</td>\n",
              "      <td>46</td>\n",
              "    </tr>\n",
              "    <tr>\n",
              "      <th>Middlesbrough</th>\n",
              "      <td>6</td>\n",
              "      <td>13.04</td>\n",
              "      <td>0</td>\n",
              "      <td>0.00</td>\n",
              "      <td>46</td>\n",
              "    </tr>\n",
              "    <tr>\n",
              "      <th>Norwich</th>\n",
              "      <td>8</td>\n",
              "      <td>16.67</td>\n",
              "      <td>3</td>\n",
              "      <td>6.25</td>\n",
              "      <td>48</td>\n",
              "    </tr>\n",
              "    <tr>\n",
              "      <th>Plymouth Arg</th>\n",
              "      <td>6</td>\n",
              "      <td>13.04</td>\n",
              "      <td>0</td>\n",
              "      <td>0.00</td>\n",
              "      <td>46</td>\n",
              "    </tr>\n",
              "    <tr>\n",
              "      <th>Watford</th>\n",
              "      <td>2</td>\n",
              "      <td>4.35</td>\n",
              "      <td>1</td>\n",
              "      <td>2.17</td>\n",
              "      <td>46</td>\n",
              "    </tr>\n",
              "    <tr>\n",
              "      <th>Stoke</th>\n",
              "      <td>5</td>\n",
              "      <td>10.87</td>\n",
              "      <td>1</td>\n",
              "      <td>2.17</td>\n",
              "      <td>46</td>\n",
              "    </tr>\n",
              "    <tr>\n",
              "      <th>Swansea</th>\n",
              "      <td>4</td>\n",
              "      <td>8.70</td>\n",
              "      <td>1</td>\n",
              "      <td>2.17</td>\n",
              "      <td>46</td>\n",
              "    </tr>\n",
              "    <tr>\n",
              "      <th>Leicester City</th>\n",
              "      <td>8</td>\n",
              "      <td>17.39</td>\n",
              "      <td>1</td>\n",
              "      <td>2.17</td>\n",
              "      <td>46</td>\n",
              "    </tr>\n",
              "    <tr>\n",
              "      <th>Leeds United</th>\n",
              "      <td>11</td>\n",
              "      <td>22.92</td>\n",
              "      <td>2</td>\n",
              "      <td>4.17</td>\n",
              "      <td>48</td>\n",
              "    </tr>\n",
              "    <tr>\n",
              "      <th>Sunderland</th>\n",
              "      <td>5</td>\n",
              "      <td>10.87</td>\n",
              "      <td>1</td>\n",
              "      <td>2.17</td>\n",
              "      <td>46</td>\n",
              "    </tr>\n",
              "    <tr>\n",
              "      <th>Coventry City</th>\n",
              "      <td>5</td>\n",
              "      <td>10.87</td>\n",
              "      <td>2</td>\n",
              "      <td>4.35</td>\n",
              "      <td>46</td>\n",
              "    </tr>\n",
              "    <tr>\n",
              "      <th>Birmingham</th>\n",
              "      <td>4</td>\n",
              "      <td>8.70</td>\n",
              "      <td>1</td>\n",
              "      <td>2.17</td>\n",
              "      <td>46</td>\n",
              "    </tr>\n",
              "    <tr>\n",
              "      <th>Cardiff</th>\n",
              "      <td>3</td>\n",
              "      <td>6.52</td>\n",
              "      <td>2</td>\n",
              "      <td>4.35</td>\n",
              "      <td>46</td>\n",
              "    </tr>\n",
              "    <tr>\n",
              "      <th>Millwall</th>\n",
              "      <td>6</td>\n",
              "      <td>13.04</td>\n",
              "      <td>0</td>\n",
              "      <td>0.00</td>\n",
              "      <td>46</td>\n",
              "    </tr>\n",
              "    <tr>\n",
              "      <th>Southampton</th>\n",
              "      <td>11</td>\n",
              "      <td>22.92</td>\n",
              "      <td>2</td>\n",
              "      <td>4.17</td>\n",
              "      <td>48</td>\n",
              "    </tr>\n",
              "    <tr>\n",
              "      <th>Huddersfield</th>\n",
              "      <td>4</td>\n",
              "      <td>8.70</td>\n",
              "      <td>0</td>\n",
              "      <td>0.00</td>\n",
              "      <td>46</td>\n",
              "    </tr>\n",
              "    <tr>\n",
              "      <th>Hull City</th>\n",
              "      <td>4</td>\n",
              "      <td>8.70</td>\n",
              "      <td>2</td>\n",
              "      <td>4.35</td>\n",
              "      <td>46</td>\n",
              "    </tr>\n",
              "    <tr>\n",
              "      <th>Ipswich Town</th>\n",
              "      <td>10</td>\n",
              "      <td>21.74</td>\n",
              "      <td>2</td>\n",
              "      <td>4.35</td>\n",
              "      <td>46</td>\n",
              "    </tr>\n",
              "    <tr>\n",
              "      <th>Preston NE</th>\n",
              "      <td>5</td>\n",
              "      <td>10.87</td>\n",
              "      <td>2</td>\n",
              "      <td>4.35</td>\n",
              "      <td>46</td>\n",
              "    </tr>\n",
              "    <tr>\n",
              "      <th>Rotherham Utd</th>\n",
              "      <td>2</td>\n",
              "      <td>4.35</td>\n",
              "      <td>0</td>\n",
              "      <td>0.00</td>\n",
              "      <td>46</td>\n",
              "    </tr>\n",
              "    <tr>\n",
              "      <th>West Brom</th>\n",
              "      <td>11</td>\n",
              "      <td>22.92</td>\n",
              "      <td>1</td>\n",
              "      <td>2.08</td>\n",
              "      <td>48</td>\n",
              "    </tr>\n",
              "    <tr>\n",
              "      <th>QPR</th>\n",
              "      <td>4</td>\n",
              "      <td>8.70</td>\n",
              "      <td>1</td>\n",
              "      <td>2.17</td>\n",
              "      <td>46</td>\n",
              "    </tr>\n",
              "  </tbody>\n",
              "</table>\n",
              "</div>"
            ],
            "text/plain": [
              "                HomeWins  %HomeWins  2ndHalfTurnArounds  %2ndHalfTurnArounds  \\\n",
              "Sheffield Wed          5      10.87                   1                 2.17   \n",
              "Blackburn              4       8.70                   0                 0.00   \n",
              "Bristol City           6      13.04                   2                 4.35   \n",
              "Middlesbrough          6      13.04                   0                 0.00   \n",
              "Norwich                8      16.67                   3                 6.25   \n",
              "Plymouth Arg           6      13.04                   0                 0.00   \n",
              "Watford                2       4.35                   1                 2.17   \n",
              "Stoke                  5      10.87                   1                 2.17   \n",
              "Swansea                4       8.70                   1                 2.17   \n",
              "Leicester City         8      17.39                   1                 2.17   \n",
              "Leeds United          11      22.92                   2                 4.17   \n",
              "Sunderland             5      10.87                   1                 2.17   \n",
              "Coventry City          5      10.87                   2                 4.35   \n",
              "Birmingham             4       8.70                   1                 2.17   \n",
              "Cardiff                3       6.52                   2                 4.35   \n",
              "Millwall               6      13.04                   0                 0.00   \n",
              "Southampton           11      22.92                   2                 4.17   \n",
              "Huddersfield           4       8.70                   0                 0.00   \n",
              "Hull City              4       8.70                   2                 4.35   \n",
              "Ipswich Town          10      21.74                   2                 4.35   \n",
              "Preston NE             5      10.87                   2                 4.35   \n",
              "Rotherham Utd          2       4.35                   0                 0.00   \n",
              "West Brom             11      22.92                   1                 2.08   \n",
              "QPR                    4       8.70                   1                 2.17   \n",
              "\n",
              "                matches  \n",
              "Sheffield Wed        46  \n",
              "Blackburn            46  \n",
              "Bristol City         46  \n",
              "Middlesbrough        46  \n",
              "Norwich              48  \n",
              "Plymouth Arg         46  \n",
              "Watford              46  \n",
              "Stoke                46  \n",
              "Swansea              46  \n",
              "Leicester City       46  \n",
              "Leeds United         48  \n",
              "Sunderland           46  \n",
              "Coventry City        46  \n",
              "Birmingham           46  \n",
              "Cardiff              46  \n",
              "Millwall             46  \n",
              "Southampton          48  \n",
              "Huddersfield         46  \n",
              "Hull City            46  \n",
              "Ipswich Town         46  \n",
              "Preston NE           46  \n",
              "Rotherham Utd        46  \n",
              "West Brom            48  \n",
              "QPR                  46  "
            ]
          },
          "execution_count": 12,
          "metadata": {},
          "output_type": "execute_result"
        }
      ],
      "source": [
        "teams_df[\"%HomeWins\"] = round((teams_df[\"HomeWins\"]/teams_df[\"matches\"]) * 100 , 2)\n",
        "teams_df[\"%2ndHalfTurnArounds\"] = round((teams_df[\"2ndHalfTurnArounds\"]/teams_df[\"matches\"]) * 100 ,2)\n",
        "\n",
        "teams_df"
      ]
    },
    {
      "cell_type": "markdown",
      "metadata": {
        "id": "9p0XZc19BG_t"
      },
      "source": [
        "Display the top 5 teams with best percentage of holding a positive score at half time and final time."
      ]
    },
    {
      "cell_type": "code",
      "execution_count": 13,
      "metadata": {
        "colab": {
          "base_uri": "https://localhost:8080/"
        },
        "id": "yM6N7SjlGela",
        "outputId": "b4d3a524-c190-4b98-d89a-7159d18ffbfb"
      },
      "outputs": [
        {
          "data": {
            "text/plain": [
              "West Brom         22.92\n",
              "Leeds United      22.92\n",
              "Southampton       22.92\n",
              "Ipswich Town      21.74\n",
              "Leicester City    17.39\n",
              "Name: %HomeWins, dtype: float64"
            ]
          },
          "execution_count": 13,
          "metadata": {},
          "output_type": "execute_result"
        }
      ],
      "source": [
        "teams_df[\"%HomeWins\"].sort_values(ascending=False).head()"
      ]
    },
    {
      "cell_type": "markdown",
      "metadata": {
        "id": "DaqaDkDFBTkh"
      },
      "source": [
        "Display the top 5 teams with the best percentage of turning the score around at the second half"
      ]
    },
    {
      "cell_type": "code",
      "execution_count": 14,
      "metadata": {
        "colab": {
          "base_uri": "https://localhost:8080/"
        },
        "id": "I2RLnhSDBTwh",
        "outputId": "6b0385b7-df56-49da-bebc-5f74b3c23186"
      },
      "outputs": [
        {
          "data": {
            "text/plain": [
              "Norwich          6.25\n",
              "Coventry City    4.35\n",
              "Bristol City     4.35\n",
              "Preston NE       4.35\n",
              "Ipswich Town     4.35\n",
              "Name: %2ndHalfTurnArounds, dtype: float64"
            ]
          },
          "execution_count": 14,
          "metadata": {},
          "output_type": "execute_result"
        }
      ],
      "source": [
        "teams_df[\"%2ndHalfTurnArounds\"].sort_values(ascending=False).head()"
      ]
    }
  ],
  "metadata": {
    "colab": {
      "include_colab_link": true,
      "provenance": []
    },
    "kernelspec": {
      "display_name": "Python 3",
      "language": "python",
      "name": "python3"
    },
    "language_info": {
      "codemirror_mode": {
        "name": "ipython",
        "version": 3
      },
      "file_extension": ".py",
      "mimetype": "text/x-python",
      "name": "python",
      "nbconvert_exporter": "python",
      "pygments_lexer": "ipython3",
      "version": "3.12.2"
    }
  },
  "nbformat": 4,
  "nbformat_minor": 0
}
