{
 "cells": [
  {
   "cell_type": "markdown",
   "metadata": {},
   "source": [
    "# Module 10 Task 1 - Interaction with API's"
   ]
  },
  {
   "cell_type": "markdown",
   "metadata": {},
   "source": [
    "The goal of this project is to interact with the football-data API, and to find out which teams are the best at holding on wins at home (winning at half-time and winning at the end) and which are the best at turning the score around in the second half, regardless of whether it's at home or away. For both cases, we're interested in knowing not only how many times they've done it, but above all the percentage of score they've turned around / kept."
   ]
  },
  {
   "cell_type": "markdown",
   "metadata": {},
   "source": [
    "Import libraries"
   ]
  },
  {
   "cell_type": "code",
   "execution_count": 1,
   "metadata": {},
   "outputs": [],
   "source": [
    "import requests\n",
    "import pandas as pd\n",
    "import json"
   ]
  },
  {
   "cell_type": "markdown",
   "metadata": {},
   "source": [
    "Declare our variables and make the GET request to the API endpoint"
   ]
  },
  {
   "cell_type": "code",
   "execution_count": 53,
   "metadata": {},
   "outputs": [],
   "source": [
    "# id of the competition we want to get our data from, in this case #2013 is the Brazilian League\n",
    "id = 2013\n",
    "url = f\"http://api.football-data.org/v4/competitions/{id}/matches\"\n",
    "\n",
    "# headers for the GET request, the need to pass our Authentication Token\n",
    "headers = {\"X-Auth-Token\": \"be7154bc799640df977f1223ab78ae8b\"}\n",
    "\n",
    "response = requests.get(url, headers=headers)\n",
    "response = json.loads(response.text)\n"
   ]
  },
  {
   "cell_type": "markdown",
   "metadata": {},
   "source": [
    "We get our matches data by converting our JSON or dictionary object into a pandas dataframe."
   ]
  },
  {
   "cell_type": "code",
   "execution_count": 61,
   "metadata": {},
   "outputs": [
    {
     "name": "stdout",
     "output_type": "stream",
     "text": [
      "<class 'pandas.core.frame.DataFrame'>\n",
      "RangeIndex: 380 entries, 0 to 379\n",
      "Data columns (total 39 columns):\n",
      " #   Column                  Non-Null Count  Dtype  \n",
      "---  ------                  --------------  -----  \n",
      " 0   id                      380 non-null    int64  \n",
      " 1   utcDate                 380 non-null    object \n",
      " 2   status                  380 non-null    object \n",
      " 3   matchday                380 non-null    int64  \n",
      " 4   stage                   380 non-null    object \n",
      " 5   group                   0 non-null      object \n",
      " 6   lastUpdated             380 non-null    object \n",
      " 7   referees                380 non-null    object \n",
      " 8   area.id                 380 non-null    int64  \n",
      " 9   area.name               380 non-null    object \n",
      " 10  area.code               380 non-null    object \n",
      " 11  area.flag               380 non-null    object \n",
      " 12  competition.id          380 non-null    int64  \n",
      " 13  competition.name        380 non-null    object \n",
      " 14  competition.code        380 non-null    object \n",
      " 15  competition.type        380 non-null    object \n",
      " 16  competition.emblem      380 non-null    object \n",
      " 17  season.id               380 non-null    int64  \n",
      " 18  season.startDate        380 non-null    object \n",
      " 19  season.endDate          380 non-null    object \n",
      " 20  season.currentMatchday  380 non-null    int64  \n",
      " 21  season.winner           0 non-null      object \n",
      " 22  homeTeam.id             380 non-null    int64  \n",
      " 23  homeTeam.name           380 non-null    object \n",
      " 24  homeTeam.shortName      380 non-null    object \n",
      " 25  homeTeam.tla            380 non-null    object \n",
      " 26  homeTeam.crest          380 non-null    object \n",
      " 27  awayTeam.id             380 non-null    int64  \n",
      " 28  awayTeam.name           380 non-null    object \n",
      " 29  awayTeam.shortName      380 non-null    object \n",
      " 30  awayTeam.tla            380 non-null    object \n",
      " 31  awayTeam.crest          380 non-null    object \n",
      " 32  score.winner            45 non-null     object \n",
      " 33  score.duration          380 non-null    object \n",
      " 34  score.fullTime.home     45 non-null     float64\n",
      " 35  score.fullTime.away     45 non-null     float64\n",
      " 36  score.halfTime.home     45 non-null     float64\n",
      " 37  score.halfTime.away     45 non-null     float64\n",
      " 38  odds.msg                380 non-null    object \n",
      "dtypes: float64(4), int64(8), object(27)\n",
      "memory usage: 115.9+ KB\n"
     ]
    }
   ],
   "source": [
    "matches_df = pd.json_normalize(response[\"matches\"])\n",
    "#print(response)\n",
    "matches_df.info()"
   ]
  },
  {
   "cell_type": "markdown",
   "metadata": {},
   "source": [
    "There are columns that are useless for our analysis"
   ]
  },
  {
   "cell_type": "code",
   "execution_count": 62,
   "metadata": {},
   "outputs": [
    {
     "data": {
      "text/html": [
       "<div>\n",
       "<style scoped>\n",
       "    .dataframe tbody tr th:only-of-type {\n",
       "        vertical-align: middle;\n",
       "    }\n",
       "\n",
       "    .dataframe tbody tr th {\n",
       "        vertical-align: top;\n",
       "    }\n",
       "\n",
       "    .dataframe thead th {\n",
       "        text-align: right;\n",
       "    }\n",
       "</style>\n",
       "<table border=\"1\" class=\"dataframe\">\n",
       "  <thead>\n",
       "    <tr style=\"text-align: right;\">\n",
       "      <th></th>\n",
       "      <th>id</th>\n",
       "      <th>homeTeam.id</th>\n",
       "      <th>homeTeam.shortName</th>\n",
       "      <th>awayTeam.id</th>\n",
       "      <th>awayTeam.shortName</th>\n",
       "      <th>score.winner</th>\n",
       "      <th>score.fullTime.home</th>\n",
       "      <th>score.fullTime.away</th>\n",
       "      <th>score.halfTime.home</th>\n",
       "      <th>score.halfTime.away</th>\n",
       "    </tr>\n",
       "  </thead>\n",
       "  <tbody>\n",
       "    <tr>\n",
       "      <th>0</th>\n",
       "      <td>493753</td>\n",
       "      <td>6684</td>\n",
       "      <td>Internacional</td>\n",
       "      <td>1777</td>\n",
       "      <td>Bahia</td>\n",
       "      <td>HOME_TEAM</td>\n",
       "      <td>2.0</td>\n",
       "      <td>1.0</td>\n",
       "      <td>0.0</td>\n",
       "      <td>0.0</td>\n",
       "    </tr>\n",
       "    <tr>\n",
       "      <th>1</th>\n",
       "      <td>493762</td>\n",
       "      <td>4243</td>\n",
       "      <td>Criciúma</td>\n",
       "      <td>4245</td>\n",
       "      <td>Juventude</td>\n",
       "      <td>DRAW</td>\n",
       "      <td>1.0</td>\n",
       "      <td>1.0</td>\n",
       "      <td>1.0</td>\n",
       "      <td>0.0</td>\n",
       "    </tr>\n",
       "    <tr>\n",
       "      <th>2</th>\n",
       "      <td>493756</td>\n",
       "      <td>1765</td>\n",
       "      <td>Fluminense</td>\n",
       "      <td>4286</td>\n",
       "      <td>Bragantino</td>\n",
       "      <td>DRAW</td>\n",
       "      <td>2.0</td>\n",
       "      <td>2.0</td>\n",
       "      <td>1.0</td>\n",
       "      <td>0.0</td>\n",
       "    </tr>\n",
       "    <tr>\n",
       "      <th>3</th>\n",
       "      <td>493759</td>\n",
       "      <td>1776</td>\n",
       "      <td>São Paulo</td>\n",
       "      <td>3984</td>\n",
       "      <td>Fortaleza</td>\n",
       "      <td>AWAY_TEAM</td>\n",
       "      <td>1.0</td>\n",
       "      <td>2.0</td>\n",
       "      <td>0.0</td>\n",
       "      <td>0.0</td>\n",
       "    </tr>\n",
       "    <tr>\n",
       "      <th>4</th>\n",
       "      <td>493757</td>\n",
       "      <td>1780</td>\n",
       "      <td>Vasco da Gama</td>\n",
       "      <td>1767</td>\n",
       "      <td>Grêmio</td>\n",
       "      <td>HOME_TEAM</td>\n",
       "      <td>2.0</td>\n",
       "      <td>1.0</td>\n",
       "      <td>2.0</td>\n",
       "      <td>0.0</td>\n",
       "    </tr>\n",
       "  </tbody>\n",
       "</table>\n",
       "</div>"
      ],
      "text/plain": [
       "       id  homeTeam.id homeTeam.shortName  awayTeam.id awayTeam.shortName  \\\n",
       "0  493753         6684      Internacional         1777              Bahia   \n",
       "1  493762         4243           Criciúma         4245          Juventude   \n",
       "2  493756         1765         Fluminense         4286         Bragantino   \n",
       "3  493759         1776          São Paulo         3984          Fortaleza   \n",
       "4  493757         1780      Vasco da Gama         1767             Grêmio   \n",
       "\n",
       "  score.winner  score.fullTime.home  score.fullTime.away  score.halfTime.home  \\\n",
       "0    HOME_TEAM                  2.0                  1.0                  0.0   \n",
       "1         DRAW                  1.0                  1.0                  1.0   \n",
       "2         DRAW                  2.0                  2.0                  1.0   \n",
       "3    AWAY_TEAM                  1.0                  2.0                  0.0   \n",
       "4    HOME_TEAM                  2.0                  1.0                  2.0   \n",
       "\n",
       "   score.halfTime.away  \n",
       "0                  0.0  \n",
       "1                  0.0  \n",
       "2                  0.0  \n",
       "3                  0.0  \n",
       "4                  0.0  "
      ]
     },
     "execution_count": 62,
     "metadata": {},
     "output_type": "execute_result"
    }
   ],
   "source": [
    "# We type the name of the columns we are droping, we also specify that the removal is to axis 1 which are the columns\n",
    "\n",
    "matches_df = matches_df.drop([\"stage\", \"utcDate\",\"group\", \"lastUpdated\", \"referees\", \"area.id\", \"area.name\", \"status\", 'area.code', 'area.flag',\n",
    "       'competition.id','competition.code', \"competition.name\", \"matchday\",\n",
    "       'competition.type', 'competition.emblem', 'season.id',\n",
    "       'season.startDate', 'season.endDate', 'season.currentMatchday','homeTeam.crest','awayTeam.crest', 'score.duration',\n",
    "       'season.winner','homeTeam.name','awayTeam.name','odds.msg', \"awayTeam.tla\", \"homeTeam.tla\"], axis=1)\n",
    "\n",
    "matches_df.head()"
   ]
  },
  {
   "cell_type": "markdown",
   "metadata": {},
   "source": []
  },
  {
   "cell_type": "code",
   "execution_count": null,
   "metadata": {},
   "outputs": [],
   "source": []
  }
 ],
 "metadata": {
  "kernelspec": {
   "display_name": "Python 3",
   "language": "python",
   "name": "python3"
  },
  "language_info": {
   "codemirror_mode": {
    "name": "ipython",
    "version": 3
   },
   "file_extension": ".py",
   "mimetype": "text/x-python",
   "name": "python",
   "nbconvert_exporter": "python",
   "pygments_lexer": "ipython3",
   "version": "3.12.2"
  }
 },
 "nbformat": 4,
 "nbformat_minor": 2
}
